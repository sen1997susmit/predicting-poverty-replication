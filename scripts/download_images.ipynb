{
 "cells": [
  {
   "cell_type": "markdown",
   "metadata": {},
   "source": [
    "Skip the first two steps if you've already ran them and simply need to continue downloading images"
   ]
  },
  {
   "cell_type": "code",
   "execution_count": 1,
   "metadata": {},
   "outputs": [],
   "source": [
    "import math\n",
    "import random\n",
    "import os\n",
    "import numpy as np\n",
    "import pandas as pd\n",
    "from osgeo import gdal, osr\n",
    "from tqdm.notebook import tqdm\n",
    "\n",
    "import requests\n",
    "import matplotlib.pyplot as plt\n",
    "from io import BytesIO\n",
    "import logging\n",
    "import time"
   ]
  },
  {
   "cell_type": "code",
   "execution_count": 2,
   "metadata": {},
   "outputs": [],
   "source": [
    "BASE_DIR = '..'\n",
    "COUNTRIES_DIR = os.path.join(BASE_DIR, 'data', 'countries')\n",
    "PROCESSED_DIR = os.path.join(BASE_DIR, 'data', 'processed')\n",
    "# can try using the google downloader, in which case change this to be your google api token\n",
    "ACCESS_TOKEN_DIR = os.path.join(BASE_DIR, 'planet_api_key.txt')\n",
    "\n",
    "RANDOM_SEED = 7 # for reproducibility\n",
    "\n",
    "# each cluster must have AT LEAST this many images after doing nightlights processing\n",
    "MIN_IMAGES_PER_CLUSTER = 10"
   ]
  },
  {
   "cell_type": "code",
   "execution_count": 3,
   "metadata": {},
   "outputs": [],
   "source": [
    "import sys\n",
    "sys.path.append(BASE_DIR)\n",
    "from utils import create_space"
   ]
  },
  {
   "cell_type": "markdown",
   "metadata": {},
   "source": [
    "# Generate Download Locations"
   ]
  },
  {
   "cell_type": "code",
   "execution_count": 5,
   "metadata": {},
   "outputs": [],
   "source": [
    "df_mw = pd.read_csv(os.path.join(COUNTRIES_DIR, 'malawi_2016', 'processed/clusters.csv'))\n",
    "df_eth = pd.read_csv(os.path.join(COUNTRIES_DIR, 'ethiopia_2015', 'processed/clusters.csv'))\n",
    "df_ng = pd.read_csv(os.path.join(COUNTRIES_DIR, 'nigeria_2015', 'processed/clusters.csv'))"
   ]
  },
  {
   "cell_type": "code",
   "execution_count": 8,
   "metadata": {},
   "outputs": [],
   "source": [
    "for country in ['malawi_2016', 'ethiopia_2015', 'nigeria_2015']:\n",
    "    os.makedirs(os.path.join(COUNTRIES_DIR, country, 'images'), exist_ok=False)"
   ]
  },
  {
   "cell_type": "code",
   "execution_count": 45,
   "metadata": {},
   "outputs": [],
   "source": [
    "def generate_download_locations(df, ipc=50):\n",
    "    '''\n",
    "    Takes a dataframe with columns cluster_lat, cluster_lon\n",
    "    Generates a 10km x 10km bounding box around the cluster and samples \n",
    "    ipc images per cluster. First samples in a grid fashion, then any \n",
    "    remaining points are randomly (uniformly) chosen\n",
    "    '''\n",
    "    np.random.seed(RANDOM_SEED) # for reproducability\n",
    "    df_download = {'image_name': [], 'image_lat': [], 'image_lon': [], 'cluster_lat': [], \n",
    "                   'cluster_lon': [], 'cons_pc': [], 'nightlights': [] }\n",
    "    \n",
    "    # side length of square for uniform distribution\n",
    "    edge_num = math.floor(math.sqrt(ipc))\n",
    "    for _, r in df.iterrows():\n",
    "        min_lat, min_lon, max_lat, max_lon = create_space(r.cluster_lat, r.cluster_lon)\n",
    "        lats = np.linspace(min_lat, max_lat, edge_num).tolist()\n",
    "        lons = np.linspace(min_lon, max_lon, edge_num).tolist()\n",
    "\n",
    "        # performs cartesian product\n",
    "        uniform_points = np.transpose([np.tile(lats, len(lons)), np.repeat(lons, len(lats))])\n",
    "        \n",
    "        lats = uniform_points[:,0].tolist()\n",
    "        lons = uniform_points[:,1].tolist()\n",
    "        \n",
    "        # fills the remainder with random points\n",
    "        for _ in range(ipc - edge_num * edge_num):\n",
    "            lat = random.uniform(min_lat, max_lat)\n",
    "            lon = random.uniform(min_lon, max_lon)\n",
    "            lats.append(lat)\n",
    "            lons.append(lon)\n",
    "        \n",
    "        # add to dict\n",
    "        for lat, lon in zip(lats, lons):\n",
    "            # image name is going to be image_lat_image_lon_cluster_lat_cluster_lon.png\n",
    "            image_name = str(lat) + '_' + str(lon) + '_' + str(r.cluster_lat) + '_' + str(r.cluster_lon) + '.png'\n",
    "            df_download['image_name'].append(image_name)\n",
    "            df_download['image_lat'].append(lat)\n",
    "            df_download['image_lon'].append(lon)\n",
    "            df_download['cluster_lat'].append(r.cluster_lat)\n",
    "            df_download['cluster_lon'].append(r.cluster_lon)\n",
    "            df_download['cons_pc'].append(r.cons_pc)\n",
    "            df_download['nightlights'].append(r.nightlights)\n",
    "        \n",
    "    return pd.DataFrame.from_dict(df_download)"
   ]
  },
  {
   "cell_type": "code",
   "execution_count": 47,
   "metadata": {},
   "outputs": [],
   "source": [
    "df_mw_download = generate_download_locations(df_mw)\n",
    "df_eth_download = generate_download_locations(df_eth)\n",
    "df_ng_download = generate_download_locations(df_ng)"
   ]
  },
  {
   "cell_type": "code",
   "execution_count": 48,
   "metadata": {},
   "outputs": [
    {
     "data": {
      "text/plain": [
       "((39000, 7), (26150, 7), (33200, 7))"
      ]
     },
     "execution_count": 48,
     "metadata": {},
     "output_type": "execute_result"
    }
   ],
   "source": [
    "df_mw_download.shape, df_eth_download.shape, df_ng_download.shape"
   ]
  },
  {
   "cell_type": "code",
   "execution_count": 49,
   "metadata": {},
   "outputs": [
    {
     "data": {
      "text/html": [
       "<div>\n",
       "<style scoped>\n",
       "    .dataframe tbody tr th:only-of-type {\n",
       "        vertical-align: middle;\n",
       "    }\n",
       "\n",
       "    .dataframe tbody tr th {\n",
       "        vertical-align: top;\n",
       "    }\n",
       "\n",
       "    .dataframe thead th {\n",
       "        text-align: right;\n",
       "    }\n",
       "</style>\n",
       "<table border=\"1\" class=\"dataframe\">\n",
       "  <thead>\n",
       "    <tr style=\"text-align: right;\">\n",
       "      <th></th>\n",
       "      <th>image_name</th>\n",
       "      <th>image_lat</th>\n",
       "      <th>image_lon</th>\n",
       "      <th>cluster_lat</th>\n",
       "      <th>cluster_lon</th>\n",
       "      <th>cons_pc</th>\n",
       "      <th>nightlights</th>\n",
       "    </tr>\n",
       "  </thead>\n",
       "  <tbody>\n",
       "    <tr>\n",
       "      <th>0</th>\n",
       "      <td>-17.140065764205975_35.17229723579403_-17.0951...</td>\n",
       "      <td>-17.140066</td>\n",
       "      <td>35.172297</td>\n",
       "      <td>-17.09515</td>\n",
       "      <td>35.217213</td>\n",
       "      <td>1.423239</td>\n",
       "      <td>0.025206</td>\n",
       "    </tr>\n",
       "    <tr>\n",
       "      <th>1</th>\n",
       "      <td>-17.125093842803985_35.17229723579403_-17.0951...</td>\n",
       "      <td>-17.125094</td>\n",
       "      <td>35.172297</td>\n",
       "      <td>-17.09515</td>\n",
       "      <td>35.217213</td>\n",
       "      <td>1.423239</td>\n",
       "      <td>0.025206</td>\n",
       "    </tr>\n",
       "    <tr>\n",
       "      <th>2</th>\n",
       "      <td>-17.11012192140199_35.17229723579403_-17.09515...</td>\n",
       "      <td>-17.110122</td>\n",
       "      <td>35.172297</td>\n",
       "      <td>-17.09515</td>\n",
       "      <td>35.217213</td>\n",
       "      <td>1.423239</td>\n",
       "      <td>0.025206</td>\n",
       "    </tr>\n",
       "    <tr>\n",
       "      <th>3</th>\n",
       "      <td>-17.09515_35.17229723579403_-17.09515_35.21721...</td>\n",
       "      <td>-17.095150</td>\n",
       "      <td>35.172297</td>\n",
       "      <td>-17.09515</td>\n",
       "      <td>35.217213</td>\n",
       "      <td>1.423239</td>\n",
       "      <td>0.025206</td>\n",
       "    </tr>\n",
       "    <tr>\n",
       "      <th>4</th>\n",
       "      <td>-17.08017807859801_35.17229723579403_-17.09515...</td>\n",
       "      <td>-17.080178</td>\n",
       "      <td>35.172297</td>\n",
       "      <td>-17.09515</td>\n",
       "      <td>35.217213</td>\n",
       "      <td>1.423239</td>\n",
       "      <td>0.025206</td>\n",
       "    </tr>\n",
       "  </tbody>\n",
       "</table>\n",
       "</div>"
      ],
      "text/plain": [
       "                                          image_name  image_lat  image_lon  \\\n",
       "0  -17.140065764205975_35.17229723579403_-17.0951... -17.140066  35.172297   \n",
       "1  -17.125093842803985_35.17229723579403_-17.0951... -17.125094  35.172297   \n",
       "2  -17.11012192140199_35.17229723579403_-17.09515... -17.110122  35.172297   \n",
       "3  -17.09515_35.17229723579403_-17.09515_35.21721... -17.095150  35.172297   \n",
       "4  -17.08017807859801_35.17229723579403_-17.09515... -17.080178  35.172297   \n",
       "\n",
       "   cluster_lat  cluster_lon   cons_pc  nightlights  \n",
       "0    -17.09515    35.217213  1.423239     0.025206  \n",
       "1    -17.09515    35.217213  1.423239     0.025206  \n",
       "2    -17.09515    35.217213  1.423239     0.025206  \n",
       "3    -17.09515    35.217213  1.423239     0.025206  \n",
       "4    -17.09515    35.217213  1.423239     0.025206  "
      ]
     },
     "execution_count": 49,
     "metadata": {},
     "output_type": "execute_result"
    }
   ],
   "source": [
    "df_mw_download.head()"
   ]
  },
  {
   "cell_type": "code",
   "execution_count": 50,
   "metadata": {},
   "outputs": [
    {
     "data": {
      "text/html": [
       "<div>\n",
       "<style scoped>\n",
       "    .dataframe tbody tr th:only-of-type {\n",
       "        vertical-align: middle;\n",
       "    }\n",
       "\n",
       "    .dataframe tbody tr th {\n",
       "        vertical-align: top;\n",
       "    }\n",
       "\n",
       "    .dataframe thead th {\n",
       "        text-align: right;\n",
       "    }\n",
       "</style>\n",
       "<table border=\"1\" class=\"dataframe\">\n",
       "  <thead>\n",
       "    <tr style=\"text-align: right;\">\n",
       "      <th></th>\n",
       "      <th>image_name</th>\n",
       "      <th>image_lat</th>\n",
       "      <th>image_lon</th>\n",
       "      <th>cluster_lat</th>\n",
       "      <th>cluster_lon</th>\n",
       "      <th>cons_pc</th>\n",
       "      <th>nightlights</th>\n",
       "    </tr>\n",
       "  </thead>\n",
       "  <tbody>\n",
       "    <tr>\n",
       "      <th>0</th>\n",
       "      <td>3.410784802784024_39.47107816189403_3.45570056...</td>\n",
       "      <td>3.410785</td>\n",
       "      <td>39.471078</td>\n",
       "      <td>3.455701</td>\n",
       "      <td>39.515994</td>\n",
       "      <td>14.854634</td>\n",
       "      <td>0.0</td>\n",
       "    </tr>\n",
       "    <tr>\n",
       "      <th>1</th>\n",
       "      <td>3.4257567241860163_39.47107816189403_3.4557005...</td>\n",
       "      <td>3.425757</td>\n",
       "      <td>39.471078</td>\n",
       "      <td>3.455701</td>\n",
       "      <td>39.515994</td>\n",
       "      <td>14.854634</td>\n",
       "      <td>0.0</td>\n",
       "    </tr>\n",
       "    <tr>\n",
       "      <th>2</th>\n",
       "      <td>3.440728645588008_39.47107816189403_3.45570056...</td>\n",
       "      <td>3.440729</td>\n",
       "      <td>39.471078</td>\n",
       "      <td>3.455701</td>\n",
       "      <td>39.515994</td>\n",
       "      <td>14.854634</td>\n",
       "      <td>0.0</td>\n",
       "    </tr>\n",
       "    <tr>\n",
       "      <th>3</th>\n",
       "      <td>3.45570056699_39.47107816189403_3.45570056699_...</td>\n",
       "      <td>3.455701</td>\n",
       "      <td>39.471078</td>\n",
       "      <td>3.455701</td>\n",
       "      <td>39.515994</td>\n",
       "      <td>14.854634</td>\n",
       "      <td>0.0</td>\n",
       "    </tr>\n",
       "    <tr>\n",
       "      <th>4</th>\n",
       "      <td>3.470672488391992_39.47107816189403_3.45570056...</td>\n",
       "      <td>3.470672</td>\n",
       "      <td>39.471078</td>\n",
       "      <td>3.455701</td>\n",
       "      <td>39.515994</td>\n",
       "      <td>14.854634</td>\n",
       "      <td>0.0</td>\n",
       "    </tr>\n",
       "  </tbody>\n",
       "</table>\n",
       "</div>"
      ],
      "text/plain": [
       "                                          image_name  image_lat  image_lon  \\\n",
       "0  3.410784802784024_39.47107816189403_3.45570056...   3.410785  39.471078   \n",
       "1  3.4257567241860163_39.47107816189403_3.4557005...   3.425757  39.471078   \n",
       "2  3.440728645588008_39.47107816189403_3.45570056...   3.440729  39.471078   \n",
       "3  3.45570056699_39.47107816189403_3.45570056699_...   3.455701  39.471078   \n",
       "4  3.470672488391992_39.47107816189403_3.45570056...   3.470672  39.471078   \n",
       "\n",
       "   cluster_lat  cluster_lon    cons_pc  nightlights  \n",
       "0     3.455701    39.515994  14.854634          0.0  \n",
       "1     3.455701    39.515994  14.854634          0.0  \n",
       "2     3.455701    39.515994  14.854634          0.0  \n",
       "3     3.455701    39.515994  14.854634          0.0  \n",
       "4     3.455701    39.515994  14.854634          0.0  "
      ]
     },
     "execution_count": 50,
     "metadata": {},
     "output_type": "execute_result"
    }
   ],
   "source": [
    "df_eth_download.head()"
   ]
  },
  {
   "cell_type": "code",
   "execution_count": 51,
   "metadata": {},
   "outputs": [
    {
     "data": {
      "text/html": [
       "<div>\n",
       "<style scoped>\n",
       "    .dataframe tbody tr th:only-of-type {\n",
       "        vertical-align: middle;\n",
       "    }\n",
       "\n",
       "    .dataframe tbody tr th {\n",
       "        vertical-align: top;\n",
       "    }\n",
       "\n",
       "    .dataframe thead th {\n",
       "        text-align: right;\n",
       "    }\n",
       "</style>\n",
       "<table border=\"1\" class=\"dataframe\">\n",
       "  <thead>\n",
       "    <tr style=\"text-align: right;\">\n",
       "      <th></th>\n",
       "      <th>image_name</th>\n",
       "      <th>image_lat</th>\n",
       "      <th>image_lon</th>\n",
       "      <th>cluster_lat</th>\n",
       "      <th>cluster_lon</th>\n",
       "      <th>cons_pc</th>\n",
       "      <th>nightlights</th>\n",
       "    </tr>\n",
       "  </thead>\n",
       "  <tbody>\n",
       "    <tr>\n",
       "      <th>0</th>\n",
       "      <td>4.270870351534024_6.223837135554024_4.31578611...</td>\n",
       "      <td>4.270870</td>\n",
       "      <td>6.223837</td>\n",
       "      <td>4.315786</td>\n",
       "      <td>6.268753</td>\n",
       "      <td>4.317717</td>\n",
       "      <td>0.123354</td>\n",
       "    </tr>\n",
       "    <tr>\n",
       "      <th>1</th>\n",
       "      <td>4.285842272936016_6.223837135554024_4.31578611...</td>\n",
       "      <td>4.285842</td>\n",
       "      <td>6.223837</td>\n",
       "      <td>4.315786</td>\n",
       "      <td>6.268753</td>\n",
       "      <td>4.317717</td>\n",
       "      <td>0.123354</td>\n",
       "    </tr>\n",
       "    <tr>\n",
       "      <th>2</th>\n",
       "      <td>4.300814194338008_6.223837135554024_4.31578611...</td>\n",
       "      <td>4.300814</td>\n",
       "      <td>6.223837</td>\n",
       "      <td>4.315786</td>\n",
       "      <td>6.268753</td>\n",
       "      <td>4.317717</td>\n",
       "      <td>0.123354</td>\n",
       "    </tr>\n",
       "    <tr>\n",
       "      <th>3</th>\n",
       "      <td>4.31578611574_6.223837135554024_4.31578611574_...</td>\n",
       "      <td>4.315786</td>\n",
       "      <td>6.223837</td>\n",
       "      <td>4.315786</td>\n",
       "      <td>6.268753</td>\n",
       "      <td>4.317717</td>\n",
       "      <td>0.123354</td>\n",
       "    </tr>\n",
       "    <tr>\n",
       "      <th>4</th>\n",
       "      <td>4.330758037141992_6.223837135554024_4.31578611...</td>\n",
       "      <td>4.330758</td>\n",
       "      <td>6.223837</td>\n",
       "      <td>4.315786</td>\n",
       "      <td>6.268753</td>\n",
       "      <td>4.317717</td>\n",
       "      <td>0.123354</td>\n",
       "    </tr>\n",
       "  </tbody>\n",
       "</table>\n",
       "</div>"
      ],
      "text/plain": [
       "                                          image_name  image_lat  image_lon  \\\n",
       "0  4.270870351534024_6.223837135554024_4.31578611...   4.270870   6.223837   \n",
       "1  4.285842272936016_6.223837135554024_4.31578611...   4.285842   6.223837   \n",
       "2  4.300814194338008_6.223837135554024_4.31578611...   4.300814   6.223837   \n",
       "3  4.31578611574_6.223837135554024_4.31578611574_...   4.315786   6.223837   \n",
       "4  4.330758037141992_6.223837135554024_4.31578611...   4.330758   6.223837   \n",
       "\n",
       "   cluster_lat  cluster_lon   cons_pc  nightlights  \n",
       "0     4.315786     6.268753  4.317717     0.123354  \n",
       "1     4.315786     6.268753  4.317717     0.123354  \n",
       "2     4.315786     6.268753  4.317717     0.123354  \n",
       "3     4.315786     6.268753  4.317717     0.123354  \n",
       "4     4.315786     6.268753  4.317717     0.123354  "
      ]
     },
     "execution_count": 51,
     "metadata": {},
     "output_type": "execute_result"
    }
   ],
   "source": [
    "df_ng_download.head()"
   ]
  },
  {
   "cell_type": "code",
   "execution_count": 55,
   "metadata": {},
   "outputs": [],
   "source": [
    "df_mw_download['country'] = 'mw'\n",
    "df_eth_download['country'] = 'eth'\n",
    "df_ng_download['country'] = 'ng'"
   ]
  },
  {
   "cell_type": "code",
   "execution_count": 62,
   "metadata": {},
   "outputs": [],
   "source": [
    "# for image download purposes the country distinction is irreleveant\n",
    "df_potential_download = pd.concat([df_mw_download, df_eth_download, df_ng_download], axis=0)\n",
    "df_potential_download.reset_index(drop=True, inplace=True)"
   ]
  },
  {
   "cell_type": "code",
   "execution_count": 97,
   "metadata": {},
   "outputs": [
    {
     "data": {
      "text/html": [
       "<div>\n",
       "<style scoped>\n",
       "    .dataframe tbody tr th:only-of-type {\n",
       "        vertical-align: middle;\n",
       "    }\n",
       "\n",
       "    .dataframe tbody tr th {\n",
       "        vertical-align: top;\n",
       "    }\n",
       "\n",
       "    .dataframe thead th {\n",
       "        text-align: right;\n",
       "    }\n",
       "</style>\n",
       "<table border=\"1\" class=\"dataframe\">\n",
       "  <thead>\n",
       "    <tr style=\"text-align: right;\">\n",
       "      <th></th>\n",
       "      <th>image_name</th>\n",
       "      <th>image_lat</th>\n",
       "      <th>image_lon</th>\n",
       "      <th>cluster_lat</th>\n",
       "      <th>cluster_lon</th>\n",
       "      <th>cons_pc</th>\n",
       "      <th>nightlights</th>\n",
       "      <th>country</th>\n",
       "    </tr>\n",
       "  </thead>\n",
       "  <tbody>\n",
       "    <tr>\n",
       "      <th>0</th>\n",
       "      <td>-17.140065764205975_35.17229723579403_-17.0951...</td>\n",
       "      <td>-17.140066</td>\n",
       "      <td>35.172297</td>\n",
       "      <td>-17.09515</td>\n",
       "      <td>35.217213</td>\n",
       "      <td>1.423239</td>\n",
       "      <td>0.025206</td>\n",
       "      <td>mw</td>\n",
       "    </tr>\n",
       "    <tr>\n",
       "      <th>1</th>\n",
       "      <td>-17.125093842803985_35.17229723579403_-17.0951...</td>\n",
       "      <td>-17.125094</td>\n",
       "      <td>35.172297</td>\n",
       "      <td>-17.09515</td>\n",
       "      <td>35.217213</td>\n",
       "      <td>1.423239</td>\n",
       "      <td>0.025206</td>\n",
       "      <td>mw</td>\n",
       "    </tr>\n",
       "    <tr>\n",
       "      <th>2</th>\n",
       "      <td>-17.11012192140199_35.17229723579403_-17.09515...</td>\n",
       "      <td>-17.110122</td>\n",
       "      <td>35.172297</td>\n",
       "      <td>-17.09515</td>\n",
       "      <td>35.217213</td>\n",
       "      <td>1.423239</td>\n",
       "      <td>0.025206</td>\n",
       "      <td>mw</td>\n",
       "    </tr>\n",
       "    <tr>\n",
       "      <th>3</th>\n",
       "      <td>-17.09515_35.17229723579403_-17.09515_35.21721...</td>\n",
       "      <td>-17.095150</td>\n",
       "      <td>35.172297</td>\n",
       "      <td>-17.09515</td>\n",
       "      <td>35.217213</td>\n",
       "      <td>1.423239</td>\n",
       "      <td>0.025206</td>\n",
       "      <td>mw</td>\n",
       "    </tr>\n",
       "    <tr>\n",
       "      <th>4</th>\n",
       "      <td>-17.08017807859801_35.17229723579403_-17.09515...</td>\n",
       "      <td>-17.080178</td>\n",
       "      <td>35.172297</td>\n",
       "      <td>-17.09515</td>\n",
       "      <td>35.217213</td>\n",
       "      <td>1.423239</td>\n",
       "      <td>0.025206</td>\n",
       "      <td>mw</td>\n",
       "    </tr>\n",
       "  </tbody>\n",
       "</table>\n",
       "</div>"
      ],
      "text/plain": [
       "                                          image_name  image_lat  image_lon  \\\n",
       "0  -17.140065764205975_35.17229723579403_-17.0951... -17.140066  35.172297   \n",
       "1  -17.125093842803985_35.17229723579403_-17.0951... -17.125094  35.172297   \n",
       "2  -17.11012192140199_35.17229723579403_-17.09515... -17.110122  35.172297   \n",
       "3  -17.09515_35.17229723579403_-17.09515_35.21721... -17.095150  35.172297   \n",
       "4  -17.08017807859801_35.17229723579403_-17.09515... -17.080178  35.172297   \n",
       "\n",
       "   cluster_lat  cluster_lon   cons_pc  nightlights country  \n",
       "0    -17.09515    35.217213  1.423239     0.025206      mw  \n",
       "1    -17.09515    35.217213  1.423239     0.025206      mw  \n",
       "2    -17.09515    35.217213  1.423239     0.025206      mw  \n",
       "3    -17.09515    35.217213  1.423239     0.025206      mw  \n",
       "4    -17.09515    35.217213  1.423239     0.025206      mw  "
      ]
     },
     "execution_count": 97,
     "metadata": {},
     "output_type": "execute_result"
    }
   ],
   "source": [
    "df_potential_download.head()"
   ]
  },
  {
   "cell_type": "markdown",
   "metadata": {},
   "source": [
    "# Filter Download Choices"
   ]
  },
  {
   "cell_type": "code",
   "execution_count": 64,
   "metadata": {},
   "outputs": [
    {
     "data": {
      "text/plain": [
       "67.03113555908203"
      ]
     },
     "execution_count": 64,
     "metadata": {},
     "output_type": "execute_result"
    }
   ],
   "source": [
    "df_potential_download['nightlights'].max()"
   ]
  },
  {
   "cell_type": "code",
   "execution_count": 98,
   "metadata": {},
   "outputs": [
    {
     "name": "stdout",
     "output_type": "stream",
     "text": [
      "0.2653787493645145\n",
      "0.8647686832740213\n"
     ]
    }
   ],
   "source": [
    "# most nightlights are 0\n",
    "# let's download images that have nonzero nightlights to induce variety into the model\n",
    "print((df_potential_download['nightlights'] == 0).mean())\n",
    "print((df_potential_download['nightlights'] <= 2).mean())"
   ]
  },
  {
   "cell_type": "code",
   "execution_count": 100,
   "metadata": {},
   "outputs": [],
   "source": [
    "def drop_0s(df, fr=0.1):\n",
    "    \"\"\"\n",
    "        Solves for d:\n",
    "            (c_z - d)/(n - d) = fr\n",
    "        Where d = rows to drop, c_z = num rows with zero nightlights, n = num rows, fr = frac remaining\n",
    "        \n",
    "        Yields:\n",
    "        d = (c_z - n*fr) / (1 - fr)\n",
    "    \"\"\"\n",
    "    np.random.seed(RANDOM_SEED)\n",
    "    c_z = (df['nightlights']==0).sum()\n",
    "    n = len(df)\n",
    "    assert c_z / n > fr, print(f'Dataframe already has under {fr} zeros')\n",
    "    \n",
    "    d = (c_z - n * fr) / (1 - fr)\n",
    "    d = int(d)\n",
    "    print(f'dropping: {d}')\n",
    "    \n",
    "    zero_df = df[df['nightlights']==0]\n",
    "    zero_clusters = zero_df.groupby(['cluster_lat', 'cluster_lon'])\n",
    "    per_cluster_drop = int(d / len(zero_clusters))\n",
    "    print(f'Need to drop {per_cluster_drop} per cluster with 0 nightlights')\n",
    "    \n",
    "    drop_inds = []\n",
    "    for (cluster_lat, cluster_lon), group in zero_clusters:\n",
    "        z_inds = group.index\n",
    "        clust_drop = np.random.choice(z_inds, per_cluster_drop, replace=False)\n",
    "        assert len(group) - len(clust_drop) >= MIN_IMAGES_PER_CLUSTER, print(f'dropping too many in {cluster_lat}, {cluster_lon}')\n",
    "        drop_inds += clust_drop.tolist()\n",
    "    \n",
    "    # this is how you do it purely randomly but some clusters might get wiped out\n",
    "    # z_inds = np.argwhere(df['nightlights'].values == 0).reshape(-1)\n",
    "    # drop_inds = np.random.choice(z_inds, d, replace=False)\n",
    "    return df.drop(drop_inds).reset_index(drop=True)\n",
    "\n",
    "def drop_in_range(df, lower=0, upper=2, fr=0.25):\n",
    "    \"\"\"\n",
    "        Very similar to drop_0s calculation, but more generalized. Lower and upper are inclusive.\n",
    "    \"\"\"\n",
    "    np.random.seed(RANDOM_SEED)\n",
    "    boolean_idx = ((lower <= df['nightlights']) & (df['nightlights'] <= upper))\n",
    "    c_under = boolean_idx.sum()\n",
    "    n = len(df)\n",
    "    assert c_under / n > fr, print(f'Dataframe already has under {fr} rows in the given range')\n",
    "    \n",
    "    d = (c_under - n * fr) / (1 - fr)\n",
    "    d = int(d)\n",
    "    print(f'dropping: {d}')\n",
    "    \n",
    "    select_df = df[boolean_idx]\n",
    "    select_clusters = select_df.groupby(['cluster_lat', 'cluster_lon'])\n",
    "    per_cluster_drop = int(d / len(select_clusters))\n",
    "    print(f'Need to drop {per_cluster_drop} per cluster in the given range')\n",
    "    \n",
    "    drop_inds = []\n",
    "    for (cluster_lat, cluster_lon), group in select_clusters:\n",
    "        z_inds = group.index\n",
    "        clust_drop = np.random.choice(z_inds, per_cluster_drop, replace=False)\n",
    "        assert len(group) - len(clust_drop) >= MIN_IMAGES_PER_CLUSTER, print(f'dropping too many in {cluster_lat}, {cluster_lon}')\n",
    "        drop_inds += clust_drop.tolist()\n",
    "        \n",
    "    return df.drop(drop_inds).reset_index(drop=True)\n"
   ]
  },
  {
   "cell_type": "code",
   "execution_count": 104,
   "metadata": {},
   "outputs": [
    {
     "name": "stdout",
     "output_type": "stream",
     "text": [
      "dropping: 18072\n",
      "Need to drop 34 per cluster with 0 nightlights\n"
     ]
    }
   ],
   "source": [
    "df_mod_download = drop_0s(df_potential_download, fr=0.1)"
   ]
  },
  {
   "cell_type": "code",
   "execution_count": 105,
   "metadata": {},
   "outputs": [
    {
     "data": {
      "text/plain": [
       "0.1036202575618471"
      ]
     },
     "execution_count": 105,
     "metadata": {},
     "output_type": "execute_result"
    }
   ],
   "source": [
    "(df_mod_download['nightlights'] == 0).mean()"
   ]
  },
  {
   "cell_type": "code",
   "execution_count": 106,
   "metadata": {},
   "outputs": [
    {
     "name": "stdout",
     "output_type": "stream",
     "text": [
      "dropping: 46432\n",
      "Need to drop 38 per cluster in the given nightlight range\n"
     ]
    }
   ],
   "source": [
    "df_mod_download = drop_in_range(df_mod_download, lower=0.001, upper=3, fr=0.4)"
   ]
  },
  {
   "cell_type": "code",
   "execution_count": 107,
   "metadata": {},
   "outputs": [
    {
     "data": {
      "text/plain": [
       "0.4129874591994503"
      ]
     },
     "execution_count": 107,
     "metadata": {},
     "output_type": "execute_result"
    }
   ],
   "source": [
    "((0.001 <= df_mod_download['nightlights']) & (df_mod_download['nightlights'] <= 3)).mean()"
   ]
  },
  {
   "cell_type": "code",
   "execution_count": 108,
   "metadata": {},
   "outputs": [
    {
     "data": {
      "text/plain": [
       "0.23913416938670332"
      ]
     },
     "execution_count": 108,
     "metadata": {},
     "output_type": "execute_result"
    }
   ],
   "source": [
    "# this has gone up now though\n",
    "(df_mod_download['nightlights'] == 0).mean()"
   ]
  },
  {
   "cell_type": "code",
   "execution_count": 110,
   "metadata": {},
   "outputs": [
    {
     "name": "stdout",
     "output_type": "stream",
     "text": [
      "dropping: 1708\n",
      "Need to drop 3 per cluster with 0 nightlights\n"
     ]
    }
   ],
   "source": [
    "df_mod_download = drop_0s(df_mod_download, fr=0.2)"
   ]
  },
  {
   "cell_type": "markdown",
   "metadata": {},
   "source": [
    "At this point the low nightlight clusters (0 and under 3) have 11 and 12 images respectively, meaning very few more images can be dropped without going under 10."
   ]
  },
  {
   "cell_type": "code",
   "execution_count": 112,
   "metadata": {},
   "outputs": [],
   "source": [
    "from sklearn.mixture import GaussianMixture as GMM\n",
    "X = df_mod_download['nightlights'].values.reshape(-1,1)\n",
    "gmm = GMM(n_components=3).fit(X)\n",
    "labels = gmm.predict(df_mod_download['nightlights'].values.reshape(-1,1))"
   ]
  },
  {
   "cell_type": "code",
   "execution_count": 113,
   "metadata": {},
   "outputs": [
    {
     "data": {
      "text/plain": [
       "(0.4829136690647482, 0.01498800959232614, 0.5020983213429256)"
      ]
     },
     "execution_count": 113,
     "metadata": {},
     "output_type": "execute_result"
    }
   ],
   "source": [
    "(labels==0).mean(), (labels==1).mean(), (labels==2).mean()"
   ]
  },
  {
   "cell_type": "code",
   "execution_count": 114,
   "metadata": {},
   "outputs": [
    {
     "data": {
      "text/plain": [
       "(0.032049208879470825, 67.03113555908203, 15.320823669433596)"
      ]
     },
     "execution_count": 114,
     "metadata": {},
     "output_type": "execute_result"
    }
   ],
   "source": [
    "# these are the cutoff for the labels identified by the Guassian Mixture Model\n",
    "label0_max = df_mod_download['nightlights'][labels==0].max()\n",
    "label1_max = df_mod_download['nightlights'][labels==1].max()\n",
    "label2_max = df_mod_download['nightlights'][labels==2].max()\n",
    "\n",
    "label0_max, label1_max, label2_max"
   ]
  },
  {
   "cell_type": "code",
   "execution_count": 129,
   "metadata": {},
   "outputs": [],
   "source": [
    "# I am going to hand reassign these to have better representation among all three classes\n",
    "# these are not ideal distributions obviously but the model should still be able to learn\n",
    "# something like a quantile cut might work better and be less arbitrary, but for reproducability \n",
    "# purposes I'll stick to the GMM-based approach\n",
    "label0_max = 0.05\n",
    "label1_max = 5\n",
    "label2_max = 70"
   ]
  },
  {
   "cell_type": "code",
   "execution_count": 128,
   "metadata": {},
   "outputs": [
    {
     "name": "stdout",
     "output_type": "stream",
     "text": [
      "0.5091726618705036\n",
      "0.32146282973621104\n",
      "0.16936450839328537\n"
     ]
    }
   ],
   "source": [
    "def query_df(df, lower, upper):\n",
    "    return df[((lower <= df['nightlights']) & (df['nightlights'] < upper))]\n",
    "\n",
    "print(len(query_df(df_mod_download, 0, label0_max)) / len(df_mod_download))\n",
    "print(len(query_df(df_mod_download, label0_max, label1_max)) / len(df_mod_download))\n",
    "print(len(query_df(df_mod_download, label1_max, label2_max)) / len(df_mod_download))"
   ]
  },
  {
   "cell_type": "code",
   "execution_count": 130,
   "metadata": {},
   "outputs": [
    {
     "name": "stderr",
     "output_type": "stream",
     "text": [
      "/opt/conda/envs/predicting-poverty-replication/lib/python3.7/site-packages/pandas/core/indexing.py:671: SettingWithCopyWarning: \n",
      "A value is trying to be set on a copy of a slice from a DataFrame\n",
      "\n",
      "See the caveats in the documentation: https://pandas.pydata.org/pandas-docs/stable/user_guide/indexing.html#returning-a-view-versus-a-copy\n",
      "  self._setitem_with_indexer(indexer, value)\n"
     ]
    }
   ],
   "source": [
    "def create_nightlights_bin(df, cutoffs):\n",
    "    assert len(cutoffs) >= 2, print('need at least 2 bins')\n",
    "    cutoffs = sorted(cutoffs, reverse=True)\n",
    "    labels = list(range(len(cutoffs)))[::-1]\n",
    "    df['nightlights_bin'] = len(cutoffs)\n",
    "    for cutoff, label in zip(cutoffs, labels):\n",
    "        df['nightlights_bin'].loc[df['nightlights'] <= cutoff] = label\n",
    "\n",
    "df_download = df_mod_download.copy()\n",
    "create_nightlights_bin(df_download, cutoffs=[label0_max, label1_max, label2_max])"
   ]
  },
  {
   "cell_type": "code",
   "execution_count": 132,
   "metadata": {},
   "outputs": [
    {
     "data": {
      "text/plain": [
       "(0.5091726618705036, 0.32146282973621104, 0.16936450839328537)"
      ]
     },
     "execution_count": 132,
     "metadata": {},
     "output_type": "execute_result"
    }
   ],
   "source": [
    "# these should match above\n",
    "(df_download['nightlights_bin']==0).mean(), (df_download['nightlights_bin']==1).mean(), (df_download['nightlights_bin']==2).mean()\n"
   ]
  },
  {
   "cell_type": "code",
   "execution_count": 133,
   "metadata": {},
   "outputs": [
    {
     "data": {
      "text/plain": [
       "(33360, 9)"
      ]
     },
     "execution_count": 133,
     "metadata": {},
     "output_type": "execute_result"
    }
   ],
   "source": [
    "df_download.shape"
   ]
  },
  {
   "cell_type": "code",
   "execution_count": 136,
   "metadata": {},
   "outputs": [],
   "source": [
    "os.makedirs(PROCESSED_DIR, exist_ok=True)"
   ]
  },
  {
   "cell_type": "code",
   "execution_count": 137,
   "metadata": {},
   "outputs": [],
   "source": [
    "df_download.to_csv(os.path.join(PROCESSED_DIR, 'image_download_locs.csv'), index=False)"
   ]
  },
  {
   "cell_type": "markdown",
   "metadata": {},
   "source": [
    "# Download Images\n",
    "If the script breaks, you can restart here by uncommenting the line below and running the below code again. It won't download images you have already downloaded."
   ]
  },
  {
   "cell_type": "code",
   "execution_count": 4,
   "metadata": {},
   "outputs": [],
   "source": [
    "# df_download = pd.read_csv(os.path.join(PROCESSED_DIR, 'image_download_locs.csv'))"
   ]
  },
  {
   "cell_type": "code",
   "execution_count": 5,
   "metadata": {},
   "outputs": [],
   "source": [
    "# you can try the google downloader if you don't have the planet API key\n",
    "# the tradeoff is that planet's data can be queried with time, but Google's images\n",
    "# are higher res\n",
    "from utils import PlanetDownloader"
   ]
  },
  {
   "cell_type": "code",
   "execution_count": 12,
   "metadata": {},
   "outputs": [
    {
     "data": {
      "text/plain": [
       "<matplotlib.image.AxesImage at 0x7fbd8f778890>"
      ]
     },
     "execution_count": 12,
     "metadata": {},
     "output_type": "execute_result"
    },
    {
     "data": {
      "image/png": "[encoded data removed]",
      "text/plain": [
       "<Figure size 432x288 with 1 Axes>"
      ]
     },
     "metadata": {
      "needs_background": "light"
     },
     "output_type": "display_data"
    }
   ],
   "source": [
    "# this demonstrates the API call\n",
    "lat = 38.441332\n",
    "lon = -105.234751\n",
    "min_year = 2016\n",
    "min_month = 1\n",
    "max_year = 2016\n",
    "max_month = 12\n",
    "\n",
    "access = open(ACCESS_TOKEN_DIR, 'r').readlines()[0].strip()\n",
    "pd = PlanetDownloader(access)\n",
    "plt.imshow(pd.download_image(lat, lon, min_year, min_month, max_year, max_month))"
   ]
  },
  {
   "cell_type": "code",
   "execution_count": 18,
   "metadata": {},
   "outputs": [],
   "source": [
    "def download_images(df):\n",
    "    \"\"\"\n",
    "    Download images using a pandas DataFrame that has \"image_lat\", \"image_lon\", \"image_name\", \"country\" as columns\n",
    "    \n",
    "    Saves images to the corresponding country's images folder\n",
    "\n",
    "    To use the Google Downloader, switch PlanetDownloader to GoogleDownloader and make imd.download_image only\n",
    "    provide lat and lon as arguments. Use zoom = 16.\n",
    "    \"\"\"\n",
    "    access = None\n",
    "    with open(ACCESS_TOKEN_DIR, 'r') as f:\n",
    "        access = f.readlines()[0]\n",
    "    imd = PlanetDownloader(access)\n",
    "    num_retries = 20\n",
    "    wait_time = 0.1 # seconds\n",
    "\n",
    "    # drops what is already downloaded\n",
    "    already_downloaded = os.listdir(os.path.join(COUNTRIES_DIR, 'malawi_2016', 'images')) + \\\n",
    "                        os.listdir(os.path.join(COUNTRIES_DIR, 'ethiopia_2015', 'images')) + \\\n",
    "                        os.listdir(os.path.join(COUNTRIES_DIR, 'nigeria_2015', 'images'))\n",
    "    already_downloaded =  list(set(already_downloaded).intersection(set(df['image_name'])))\n",
    "    print('Already downloaded ' + str(len(already_downloaded)))\n",
    "    df = df.set_index('image_name').drop(already_downloaded).reset_index()\n",
    "    print('Need to download ' + str(len(df)))\n",
    "    # use three years of images to find one that matches search critera\n",
    "    min_year = 2014\n",
    "    min_month = 1\n",
    "    max_year = 2016\n",
    "    max_month = 12\n",
    "    for _, r in tqdm(df.iterrows(), total=df.shape[0]):\n",
    "        lat = r.image_lat\n",
    "        lon = r.image_lon\n",
    "        name = r.image_name\n",
    "        country_dir = None\n",
    "        if r.country == 'mw':\n",
    "            country_dir = 'malawi_2016'\n",
    "        elif r.country == 'eth':\n",
    "            country_dir = 'ethiopia_2015'\n",
    "        elif r.country == 'ng':\n",
    "            country_dir = 'nigeria_2015'\n",
    "        else:\n",
    "            print(f\"unrecognized country: {r.country}\")\n",
    "            raise ValueError()\n",
    "        image_save_path = os.path.join(COUNTRIES_DIR, country_dir, 'images', r.image_name)\n",
    "        try:\n",
    "            im = imd.download_image(lat, lon, min_year, min_month, max_year, max_month)\n",
    "            if (type(im) == str and im == 'RETRY') or im is None:\n",
    "                resolved = False\n",
    "                for _ in range(num_retries):\n",
    "                    time.sleep(wait_time)\n",
    "                    im = imd.download_image(lat, lon, min_year, min_month, max_year, max_month)\n",
    "                    if (type(im) == str and im == 'RETRY') or im is None:\n",
    "                        continue\n",
    "                    else:\n",
    "                        plt.imsave(image_save_path, im)\n",
    "                        resolved = True\n",
    "                        break\n",
    "                if not resolved:\n",
    "                    print(f'Could not download {lat}, {lon} despite several retries and waiting')\n",
    "                    continue\n",
    "                else:\n",
    "                    pass\n",
    "            else:\n",
    "                # no issues, save according to naming convention\n",
    "                plt.imsave(image_save_path, im)\n",
    "\n",
    "        except Exception as e:\n",
    "            logging.error(f\"Error-could not download {lat}, {lon}\", exc_info=True)\n",
    "            continue"
   ]
  },
  {
   "cell_type": "code",
   "execution_count": null,
   "metadata": {},
   "outputs": [],
   "source": [
    "download_images(df_download)"
   ]
  },
  {
   "cell_type": "code",
   "execution_count": null,
   "metadata": {},
   "outputs": [],
   "source": []
  }
 ],
 "metadata": {
  "environment": {
   "name": "pytorch-gpu.1-4.m46",
   "type": "gcloud",
   "uri": "gcr.io/deeplearning-platform-release/pytorch-gpu.1-4:m46"
  },
  "kernelspec": {
   "display_name": "predicting-poverty-replication",
   "language": "python",
   "name": "predicting-poverty-replication"
  },
  "language_info": {
   "codemirror_mode": {
    "name": "ipython",
    "version": 3
   },
   "file_extension": ".py",
   "mimetype": "text/x-python",
   "name": "python",
   "nbconvert_exporter": "python",
   "pygments_lexer": "ipython3",
   "version": "3.7.3"
  }
 },
 "nbformat": 4,
 "nbformat_minor": 2
}
